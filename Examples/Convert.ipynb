{
 "cells": [
  {
   "cell_type": "code",
   "execution_count": 1,
   "metadata": {},
   "outputs": [],
   "source": [
    "from EvenTem import FourD"
   ]
  },
  {
   "cell_type": "code",
   "execution_count": null,
   "metadata": {},
   "outputs": [],
   "source": [
    "filename = r\"d:\\DATA-local\\raw0000000.tpx3\"\n",
    "DetectorSize = 512\n",
    "repetitions = 1\n",
    "N = 2048\n",
    "dt = 5000\n",
    "\n",
    "bitdepth = 8\n",
    "det_bin = 4\n",
    "scan_bin = 1\n",
    "chunksize = 8\n",
    "compression_factor = 7 #1 is least compression, 9 is most compression\n",
    "output_filename = filename.rsplit('.', 1)[0]\n",
    "\n",
    "\n",
    "FD = FourD(N,N,repetitions,filename,output_filename,bitdepth,compression_factor)\n",
    "FD.DetectorSize = DetectorSize\n",
    "FD.DetectorBin = det_bin\n",
    "FD.ScanBin = scan_bin\n",
    "FD.ChunkSize = chunksize\n",
    "FD.DwellTime = dt\n",
    "\n",
    "FD.Run()"
   ]
  }
 ],
 "metadata": {
  "kernelspec": {
   "display_name": "Scan_UI_HSPY",
   "language": "python",
   "name": "python3"
  },
  "language_info": {
   "codemirror_mode": {
    "name": "ipython",
    "version": 3
   },
   "file_extension": ".py",
   "mimetype": "text/x-python",
   "name": "python",
   "nbconvert_exporter": "python",
   "pygments_lexer": "ipython3",
   "version": "3.9.19"
  }
 },
 "nbformat": 4,
 "nbformat_minor": 2
}
